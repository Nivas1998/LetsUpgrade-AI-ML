{
 "cells": [
  {
   "cell_type": "markdown",
   "metadata": {},
   "source": [
    "# 1.Write a program to subtract two complex numbers in Python."
   ]
  },
  {
   "cell_type": "code",
   "execution_count": 1,
   "metadata": {},
   "outputs": [
    {
     "name": "stdout",
     "output_type": "stream",
     "text": [
      "Enter the first complex number: 8+6j\n",
      "Enter the second complex number: 3+5j\n",
      "Difference of (8+6j) and (3+5j) is (5+1j)\n"
     ]
    }
   ],
   "source": [
    "num1= complex(input(\"Enter the first complex number: \"))\n",
    "num2= complex(input(\"Enter the second complex number: \"))\n",
    "\n",
    "sub = num1 - num2\n",
    "print(f\"Difference of {num1} and {num2} is {sub}\")"
   ]
  },
  {
   "cell_type": "markdown",
   "metadata": {},
   "source": [
    "# 2.Write a program to find the fourth root of a number."
   ]
  },
  {
   "cell_type": "code",
   "execution_count": 2,
   "metadata": {},
   "outputs": [
    {
     "name": "stdout",
     "output_type": "stream",
     "text": [
      "Enter the number: 86\n",
      "Fourth root of 86 is 3.05\n"
     ]
    }
   ],
   "source": [
    "num = int(input(\"Enter the number: \"))\n",
    "\n",
    "fourth_rt = num**(1/4)\n",
    "\n",
    "print(f\"Fourth root of {num} is {round(fourth_rt, 2)}\")"
   ]
  },
  {
   "cell_type": "markdown",
   "metadata": {},
   "source": [
    "# 3.Write a program to swap two numbers in Python with the help of a temporary variables."
   ]
  },
  {
   "cell_type": "code",
   "execution_count": 3,
   "metadata": {},
   "outputs": [
    {
     "name": "stdout",
     "output_type": "stream",
     "text": [
      "Enter the first number: 12\n",
      "Enter the second number: 14\n",
      "Values before swapping is  12 and 14\n",
      "Values after swapping is 14 and 12\n"
     ]
    }
   ],
   "source": [
    "num1 = int(input(\"Enter the first number: \"))\n",
    "num2 = int(input(\"Enter the second number: \"))\n",
    "print(f\"Values before swapping is  {num1} and {num2}\")\n",
    "\n",
    "temp = num1\n",
    "num1 = num2\n",
    "num2 = temp\n",
    "\n",
    "print(f\"Values after swapping is {num1} and {num2}\")"
   ]
  },
  {
   "cell_type": "markdown",
   "metadata": {},
   "source": [
    "# 4.Write a program to swap two numbers in Python without using  a temporary variables."
   ]
  },
  {
   "cell_type": "code",
   "execution_count": 5,
   "metadata": {},
   "outputs": [
    {
     "name": "stdout",
     "output_type": "stream",
     "text": [
      "Enter the first number: 10\n",
      "Enter the second number: 20\n",
      "Values before swapping is  10 and 20\n",
      "Values after swapping is 20 and 10\n"
     ]
    }
   ],
   "source": [
    "num1 = int(input(\"Enter the first number: \"))\n",
    "num2 = int(input(\"Enter the second number: \"))\n",
    "print(f\"Values before swapping is  {num1} and {num2}\")\n",
    "\n",
    "num1 = num1 + num2\n",
    "num2 = num1 - num2\n",
    "num1 = num1 - num2\n",
    "\n",
    "print(f\"Values after swapping is {num1} and {num2}\")"
   ]
  },
  {
   "cell_type": "markdown",
   "metadata": {},
   "source": [
    "# 5.Write a program to convert fahrenheit to kelvin and celsius both."
   ]
  },
  {
   "cell_type": "code",
   "execution_count": 7,
   "metadata": {},
   "outputs": [
    {
     "name": "stdout",
     "output_type": "stream",
     "text": [
      "Enter temperature in fahrenheit: 104.00\n",
      "Temperature in 104.0° Fahrenheit is 313.5° Kelvin\n",
      "Temperature in 104.0° Fahrenheit is 40.0° Celsius\n"
     ]
    }
   ],
   "source": [
    "fahrenheit = float(input(\"Enter temperature in fahrenheit: \"))\n",
    "\n",
    "degree_sign = u'\\N{DEGREE SIGN}'\n",
    "\n",
    "celsius = (fahrenheit - 32.0) * (5.0/9.0)\n",
    "\n",
    "kelvin = 273.5 + ((fahrenheit - 32.0) * (5.0/9.0))\n",
    "\n",
    "print(f\"Temperature in {fahrenheit}{degree_sign} Fahrenheit is {round(kelvin, 2)}{degree_sign} Kelvin\")\n",
    "print(f\"Temperature in {fahrenheit}{degree_sign} Fahrenheit is {round(celsius, 2)}{degree_sign} Celsius\")\n"
   ]
  },
  {
   "cell_type": "markdown",
   "metadata": {},
   "source": [
    "# 6.Write a program to demonstrate all the available data types in Python."
   ]
  },
  {
   "cell_type": "code",
   "execution_count": 8,
   "metadata": {},
   "outputs": [
    {
     "name": "stdout",
     "output_type": "stream",
     "text": [
      "5\n",
      "<class 'int'>\n"
     ]
    }
   ],
   "source": [
    "a = 5\n",
    "print(a)\n",
    "print(type(a))"
   ]
  },
  {
   "cell_type": "code",
   "execution_count": 9,
   "metadata": {},
   "outputs": [
    {
     "name": "stdout",
     "output_type": "stream",
     "text": [
      "34.56\n",
      "<class 'float'>\n"
     ]
    }
   ],
   "source": [
    "a = 34.56\n",
    "print(a)\n",
    "print(type(a))"
   ]
  },
  {
   "cell_type": "code",
   "execution_count": 10,
   "metadata": {},
   "outputs": [
    {
     "name": "stdout",
     "output_type": "stream",
     "text": [
      "INDIA\n",
      "<class 'str'>\n"
     ]
    }
   ],
   "source": [
    "a = \"INDIA\"\n",
    "print(a)\n",
    "print(type(a))"
   ]
  },
  {
   "cell_type": "code",
   "execution_count": 11,
   "metadata": {},
   "outputs": [
    {
     "name": "stdout",
     "output_type": "stream",
     "text": [
      "[5, 90.45, 'INDIA']\n",
      "<class 'list'>\n"
     ]
    }
   ],
   "source": [
    "a = [5,90.45,\"INDIA\"]\n",
    "print(a)\n",
    "print(type(a))"
   ]
  },
  {
   "cell_type": "code",
   "execution_count": 12,
   "metadata": {},
   "outputs": [
    {
     "name": "stdout",
     "output_type": "stream",
     "text": [
      "(5+9j)\n",
      "<class 'complex'>\n"
     ]
    }
   ],
   "source": [
    "num1 = 5+9j\n",
    "print(num1)\n",
    "print(type(num1))"
   ]
  },
  {
   "cell_type": "code",
   "execution_count": 13,
   "metadata": {},
   "outputs": [
    {
     "name": "stdout",
     "output_type": "stream",
     "text": [
      "{1, 2, 3}\n",
      "<class 'set'>\n"
     ]
    }
   ],
   "source": [
    "myset1 = {1,2,3}\n",
    "print(myset1)\n",
    "print(type(myset1))"
   ]
  },
  {
   "cell_type": "code",
   "execution_count": 14,
   "metadata": {},
   "outputs": [
    {
     "name": "stdout",
     "output_type": "stream",
     "text": [
      "{1: 'one', 2: 'two', 3: 'thre'}\n",
      "<class 'dict'>\n"
     ]
    }
   ],
   "source": [
    "mydict = {1:\"one\", 2:\"two\", 3:\"thre\"}\n",
    "print(mydict)\n",
    "print(type(mydict))"
   ]
  },
  {
   "cell_type": "code",
   "execution_count": 15,
   "metadata": {},
   "outputs": [
    {
     "name": "stdout",
     "output_type": "stream",
     "text": [
      "('this', 10.0, 'is', 'float', 3.6)\n",
      "<class 'tuple'>\n"
     ]
    }
   ],
   "source": [
    "mytuple = (\"this\",10.0,\"is\",\"float\",3.6)\n",
    "print(mytuple)\n",
    "print(type(mytuple))"
   ]
  },
  {
   "cell_type": "code",
   "execution_count": 17,
   "metadata": {},
   "outputs": [
    {
     "name": "stdout",
     "output_type": "stream",
     "text": [
      "True is of <class 'bool'>\n"
     ]
    }
   ],
   "source": [
    "boolean = True\n",
    "print(f\"{boolean} is of {type(boolean)}\")"
   ]
  }
 ],
 "metadata": {
  "kernelspec": {
   "display_name": "Python 3",
   "language": "python",
   "name": "python3"
  },
  "language_info": {
   "codemirror_mode": {
    "name": "ipython",
    "version": 3
   },
   "file_extension": ".py",
   "mimetype": "text/x-python",
   "name": "python",
   "nbconvert_exporter": "python",
   "pygments_lexer": "ipython3",
   "version": "3.8.3"
  }
 },
 "nbformat": 4,
 "nbformat_minor": 4
}
