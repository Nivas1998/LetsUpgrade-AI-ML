{
 "cells": [
  {
   "cell_type": "markdown",
   "metadata": {},
   "source": [
    "### 1.Python program to demonstrate addition, subtraction, multiplication, division, floor division and modulo operation."
   ]
  },
  {
   "cell_type": "code",
   "execution_count": 6,
   "metadata": {
    "scrolled": true
   },
   "outputs": [
    {
     "name": "stdout",
     "output_type": "stream",
     "text": [
      "Enter the first complex number: 6+5j\n",
      "Enter the second complex number: 3+2j\n"
     ]
    }
   ],
   "source": [
    "num1 = complex(input(\"Enter the first complex number: \"))\n",
    "num2 = complex(input(\"Enter the second complex number: \"))"
   ]
  },
  {
   "cell_type": "raw",
   "metadata": {},
   "source": [
    "#Arithmetic Addition Operation"
   ]
  },
  {
   "cell_type": "code",
   "execution_count": 7,
   "metadata": {},
   "outputs": [
    {
     "name": "stdout",
     "output_type": "stream",
     "text": [
      "Addition of the two numbers:  (9+7j)\n"
     ]
    }
   ],
   "source": [
    "add = num1 + num2\n",
    "print(\"Addition of the two numbers: \",add)"
   ]
  },
  {
   "cell_type": "raw",
   "metadata": {},
   "source": [
    "#Arithmetic Subtraction Operation:"
   ]
  },
  {
   "cell_type": "code",
   "execution_count": 8,
   "metadata": {},
   "outputs": [
    {
     "name": "stdout",
     "output_type": "stream",
     "text": [
      "Subtraction of the two numbers:  (3+3j)\n"
     ]
    }
   ],
   "source": [
    "diff = num1 - num2\n",
    "print(\"Subtraction of the two numbers: \",diff)"
   ]
  },
  {
   "cell_type": "raw",
   "metadata": {},
   "source": [
    "#Arithmetic Multiplication Operation:"
   ]
  },
  {
   "cell_type": "code",
   "execution_count": 9,
   "metadata": {},
   "outputs": [
    {
     "name": "stdout",
     "output_type": "stream",
     "text": [
      "Multiplication of the two numbers:  (8+27j)\n"
     ]
    }
   ],
   "source": [
    "product = num1 * num2\n",
    "print(\"Multiplication of the two numbers: \",product)"
   ]
  },
  {
   "cell_type": "raw",
   "metadata": {},
   "source": [
    "#Arithmetic Division Operation:"
   ]
  },
  {
   "cell_type": "code",
   "execution_count": 10,
   "metadata": {},
   "outputs": [
    {
     "name": "stdout",
     "output_type": "stream",
     "text": [
      "Division of the two numbers:  (2.1538461538461537+0.23076923076923078j)\n"
     ]
    }
   ],
   "source": [
    "div = num1 / num2\n",
    "print(\"Division of the two numbers: \",div)"
   ]
  },
  {
   "cell_type": "raw",
   "metadata": {},
   "source": [
    "#modulo operation"
   ]
  },
  {
   "cell_type": "code",
   "execution_count": 14,
   "metadata": {},
   "outputs": [
    {
     "name": "stdout",
     "output_type": "stream",
     "text": [
      "Modulus of the two numbers:  0.5991471249786757\n"
     ]
    }
   ],
   "source": [
    "mod =  abs(num1) % abs(num2)\n",
    "print(\"Modulus of the two numbers: \",mod)"
   ]
  },
  {
   "cell_type": "raw",
   "metadata": {},
   "source": [
    "#floor division"
   ]
  },
  {
   "cell_type": "code",
   "execution_count": 15,
   "metadata": {},
   "outputs": [
    {
     "name": "stdout",
     "output_type": "stream",
     "text": [
      "Floor division of the two numbers:  2.0\n"
     ]
    }
   ],
   "source": [
    "floor_division = abs(num1) // abs(num2)\n",
    "print(\"Floor division of the two numbers: \",floor_division)"
   ]
  },
  {
   "cell_type": "markdown",
   "metadata": {},
   "source": [
    "### 2.Range() Function."
   ]
  },
  {
   "cell_type": "markdown",
   "metadata": {},
   "source": [
    "- range()funtion in python s used to demonstrate a particular sequence of values.\n",
    "- range()function has three parameters\n",
    "      1. Start(It is the value from which the sequence starts,by default it has set to 0)\n",
    "      2. Stop(This is the value at which the sequence stops)\n",
    "      3. Step size(This is the value is incremented,by default it has set to 1)\n",
    "- ex:range(0,4,1)\n",
    "- (O/P) (0,1,2,3)"
   ]
  },
  {
   "cell_type": "markdown",
   "metadata": {},
   "source": [
    "### 3.Write a program to demonstarte the Range()fun."
   ]
  },
  {
   "cell_type": "code",
   "execution_count": 19,
   "metadata": {},
   "outputs": [
    {
     "name": "stdout",
     "output_type": "stream",
     "text": [
      "sum =  230\n"
     ]
    }
   ],
   "source": [
    "sum = 0\n",
    "for i in range(2,22):\n",
    "    sum = sum + i\n",
    "print(\"sum = \",sum) "
   ]
  },
  {
   "cell_type": "markdown",
   "metadata": {},
   "source": [
    "### 4.Perform their subtraction and if the result of subtraction is greater than 25, print their multiplication result else print their division result."
   ]
  },
  {
   "cell_type": "code",
   "execution_count": 22,
   "metadata": {},
   "outputs": [
    {
     "name": "stdout",
     "output_type": "stream",
     "text": [
      "Division of 50 and 32 1.5625\n"
     ]
    }
   ],
   "source": [
    "n1 = 50\n",
    "n2 = 32\n",
    "sub = n1-n2\n",
    "if sub > 25 :\n",
    "    print(f\"Multiplication of {n1} and {n2}\",n1 * n2)\n",
    "else :\n",
    "    print(f\"Division of {n1} and {n2}\",n1 / n2)"
   ]
  },
  {
   "cell_type": "markdown",
   "metadata": {},
   "source": [
    "### 5.If the number in the list is divisible by 2, print the result as \"square of that number minus 2\"."
   ]
  },
  {
   "cell_type": "code",
   "execution_count": 23,
   "metadata": {},
   "outputs": [
    {
     "name": "stdout",
     "output_type": "stream",
     "text": [
      "List is [1, 2, 3, 4, 5, 6, 7, 8, 9, 10]\n",
      "2\n",
      "14\n",
      "34\n",
      "62\n",
      "98\n"
     ]
    }
   ],
   "source": [
    "lst = list(range(1,11))  #[1,2,3,4,5,6,7,8,9,10]\n",
    "print(f\"List is {lst}\")\n",
    "for i in lst:\n",
    "    if(i % 2 == 0):\n",
    "        print((i**2)-2)"
   ]
  },
  {
   "cell_type": "markdown",
   "metadata": {},
   "source": [
    "### 6.Print all the elements in the list which are greater than 7 when that number is divided 2."
   ]
  },
  {
   "cell_type": "code",
   "execution_count": 25,
   "metadata": {},
   "outputs": [
    {
     "name": "stdout",
     "output_type": "stream",
     "text": [
      "List is [5, 6, 7, 8, 9, 10, 11, 12, 13, 14]\n",
      "\n"
     ]
    }
   ],
   "source": [
    "lst = list(range(5,15))\n",
    "print(f\"List is {lst}\\n\")\n",
    "for i in lst:\n",
    "    if i/2 > 7:\n",
    "        print(i)"
   ]
  },
  {
   "cell_type": "code",
   "execution_count": 29,
   "metadata": {},
   "outputs": [
    {
     "name": "stdout",
     "output_type": "stream",
     "text": [
      "List is [10, 11, 12, 13, 14, 15, 16, 17, 18, 19, 20]\n",
      "\n",
      "15\n",
      "16\n",
      "17\n",
      "18\n",
      "19\n",
      "20\n"
     ]
    }
   ],
   "source": [
    "lst = list(range(10,21))\n",
    "print(f\"List is {lst}\\n\")\n",
    "for i in lst:\n",
    "    if i/2 > 7:\n",
    "        print(i)"
   ]
  }
 ],
 "metadata": {
  "kernelspec": {
   "display_name": "Python 3",
   "language": "python",
   "name": "python3"
  },
  "language_info": {
   "codemirror_mode": {
    "name": "ipython",
    "version": 3
   },
   "file_extension": ".py",
   "mimetype": "text/x-python",
   "name": "python",
   "nbconvert_exporter": "python",
   "pygments_lexer": "ipython3",
   "version": "3.8.3"
  }
 },
 "nbformat": 4,
 "nbformat_minor": 4
}
