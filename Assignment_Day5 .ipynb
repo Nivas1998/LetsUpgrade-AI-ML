{
 "cells": [
  {
   "cell_type": "markdown",
   "metadata": {},
   "source": [
    "### 1.Program to find the first 20 non-even prime natural numbers."
   ]
  },
  {
   "cell_type": "code",
   "execution_count": 9,
   "metadata": {},
   "outputs": [
    {
     "name": "stdout",
     "output_type": "stream",
     "text": [
      "First 20 non-even prime natural numbers:  [3, 5, 7, 11, 13, 17, 19, 23, 29, 31, 37, 41, 43, 47, 53, 59, 61, 67, 71, 73]\n"
     ]
    }
   ],
   "source": [
    "list1 = []\n",
    "list2 = []\n",
    "n = 0\n",
    "for i in range(1,100,2):\n",
    "    if n < 20:\n",
    "        for j in range(i, 0, -1):\n",
    "            if i%j == 0:\n",
    "                list1.append(j)\n",
    "        if len(list1) == 2:\n",
    "            list2.append(i)\n",
    "            n = n + 1\n",
    "    list1.clear()\n",
    "\n",
    "print(\"First 20 non-even prime natural numbers: \",list2)"
   ]
  },
  {
   "cell_type": "markdown",
   "metadata": {},
   "source": [
    "### 2.Program to implement 15 functions of string."
   ]
  },
  {
   "cell_type": "code",
   "execution_count": 30,
   "metadata": {},
   "outputs": [
    {
     "name": "stdout",
     "output_type": "stream",
     "text": [
      "Lower: srinivas pagadala\n",
      "Checking whethar string is in Lowercase: False\n",
      "Upper: SRINIVAS PAGADALA\n",
      "Checking whethar string is in Uppercase: False\n",
      "Capitalizing: Srinivas pagadala\n",
      "Title: Srinivas Pagadala\n",
      "Is Title ? True\n",
      "First occurance of i: 2\n",
      "Srinivas pagadala\n",
      "Count of a's: 5\n",
      "Checking is alpha: False\n",
      "Checking is numeric: False\n",
      "Checking is alnum: False\n",
      "Checking whethar string is space: False\n",
      "Is Printable ? True\n"
     ]
    }
   ],
   "source": [
    "str=\"Srinivas Pagadala\"\n",
    "print(\"Lower:\",str.lower())\n",
    "print(\"Checking whethar string is in Lowercase:\",str.islower())\n",
    "print(\"Upper:\",str.upper())\n",
    "print(\"Checking whethar string is in Uppercase:\",str.isupper())\n",
    "print(\"Capitalizing:\",str.capitalize())\n",
    "print(\"Title:\",str.title())\n",
    "print(\"Is Title ?\",str.istitle())\n",
    "print(\"First occurance of i:\",str.find(\"i\"))\n",
    "print(str.replace(\"P\",\"p\"))\n",
    "print(\"Count of a's:\",str.count(\"a\"))\n",
    "print(\"Checking is alpha:\",str.isalpha())\n",
    "print(\"Checking is numeric:\",str.isnumeric())\n",
    "print(\"Checking is alnum:\",str.isalnum())\n",
    "print(\"Checking whethar string is space:\",str.isspace())\n",
    "print(\"Is Printable ?\",str.isprintable())"
   ]
  },
  {
   "cell_type": "markdown",
   "metadata": {},
   "source": [
    "### 3. Write a Python program to check if the given string is a Palindrome or Anagram or None of them. Display the message accordingly to the user."
   ]
  },
  {
   "cell_type": "code",
   "execution_count": 15,
   "metadata": {},
   "outputs": [
    {
     "name": "stdout",
     "output_type": "stream",
     "text": [
      "Enter the first string: elvis\n",
      "Enter the second string: lives\n",
      "elvis and lives are Anagram\n"
     ]
    }
   ],
   "source": [
    "st = input(\"Enter the first string: \")\n",
    "st1 = input(\"Enter the second string: \")\n",
    "\n",
    "if st == st1[::-1]:\n",
    "    print(f\"{st} and {st1} are palindrome\")\n",
    "\n",
    "elif sorted(st) == sorted(st1):\n",
    "    print(f\"{st} and {st1} are Anagram\")\n",
    "    \n",
    "else:\n",
    "    print(f\"None of them\")"
   ]
  },
  {
   "cell_type": "markdown",
   "metadata": {},
   "source": [
    "\n",
    "### 4.Write a Python's user defined function that removes all the additional characters from the string and converts it finally to lower case using built-in lower()"
   ]
  },
  {
   "cell_type": "code",
   "execution_count": 37,
   "metadata": {},
   "outputs": [
    {
     "name": "stdout",
     "output_type": "stream",
     "text": [
      "Enter string including special charactersSrinivas@pagadala\n",
      "String after formatting: Srinivaspagadala\n"
     ]
    }
   ],
   "source": [
    "str=input(\"Enter string including special characters\")\n",
    "print_str=\"\"\n",
    "for i in str :\n",
    "    if i.isalnum():\n",
    "        print_str+=i\n",
    "print(\"String after formatting:\",print_str)"
   ]
  }
 ],
 "metadata": {
  "kernelspec": {
   "display_name": "Python 3",
   "language": "python",
   "name": "python3"
  },
  "language_info": {
   "codemirror_mode": {
    "name": "ipython",
    "version": 3
   },
   "file_extension": ".py",
   "mimetype": "text/x-python",
   "name": "python",
   "nbconvert_exporter": "python",
   "pygments_lexer": "ipython3",
   "version": "3.8.3"
  }
 },
 "nbformat": 4,
 "nbformat_minor": 4
}
