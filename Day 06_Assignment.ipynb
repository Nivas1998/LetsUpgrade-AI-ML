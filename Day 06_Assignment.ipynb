{
 "cells": [
  {
   "cell_type": "markdown",
   "metadata": {},
   "source": [
    "### 1. Assuming that we have some email addresses in the \"username@companyname.com\" format, please write program to print the company name of a given email address."
   ]
  },
  {
   "cell_type": "code",
   "execution_count": 1,
   "metadata": {},
   "outputs": [
    {
     "name": "stdout",
     "output_type": "stream",
     "text": [
      "Enter your E-Mail id : Lets@Upgrade05.com\n",
      "Upgrade05\n"
     ]
    }
   ],
   "source": [
    "email=input(\"Enter your E-Mail id : \")\n",
    "lst=email.split(\"@\")\n",
    "lst=lst[1].split(\".\")\n",
    "print(lst[0])"
   ]
  },
  {
   "cell_type": "markdown",
   "metadata": {},
   "source": [
    "### 2. Write a program that accepts a comma-separated sequence of words as input and prints the words in a comma separated sequence after sorting them alphabetically"
   ]
  },
  {
   "cell_type": "code",
   "execution_count": 3,
   "metadata": {},
   "outputs": [
    {
     "name": "stdout",
     "output_type": "stream",
     "text": [
      "Enter comma seperated words : apple,cherry,banana \n",
      "apple,banana ,cherry,"
     ]
    }
   ],
   "source": [
    "\n",
    "words=input(\"Enter comma seperated words : \")\n",
    "lst=words.split(\",\")\n",
    "lst.sort()\n",
    "for word in lst:\n",
    "    print(word,end=\",\")"
   ]
  },
  {
   "cell_type": "markdown",
   "metadata": {},
   "source": [
    "### 3. Create your own Jupyter Notebook for Sets."
   ]
  },
  {
   "cell_type": "markdown",
   "metadata": {},
   "source": [
    "\"http://localhost:8890/notebooks/Untitled11.ipynb?kernel_name=python3\""
   ]
  },
  {
   "cell_type": "markdown",
   "metadata": {},
   "source": [
    "### 4. Given a list of n-1 numbers ranging from 1 to n, your task is to find the missing number. There are no duplicates."
   ]
  },
  {
   "cell_type": "code",
   "execution_count": 8,
   "metadata": {},
   "outputs": [
    {
     "name": "stdout",
     "output_type": "stream",
     "text": [
      "1 2 3 4 5  7 8 9\n",
      "6\n"
     ]
    }
   ],
   "source": [
    "num = list(map(int, input().split()))\n",
    "num1 = list(range(1,len(num)+1))\n",
    "num = sorted(num)\n",
    "for i in range(len(num1)):\n",
    "    if num1[i] != num[i]:\n",
    "        print(num1[i])\n",
    "        break"
   ]
  },
  {
   "cell_type": "markdown",
   "metadata": {},
   "source": [
    "### 5. With a given list L, write a program to print this list L after removing all duplicate values with original order reserved."
   ]
  },
  {
   "cell_type": "code",
   "execution_count": 10,
   "metadata": {},
   "outputs": [
    {
     "name": "stdout",
     "output_type": "stream",
     "text": [
      "1 2 3 54 6 7 8 9 10 54 9 10 21\n",
      "1 2 3 6 7 8 9 10 21 54 "
     ]
    }
   ],
   "source": [
    "L = set(map(int, input().split()))\n",
    "for i in sorted(L):\n",
    "    print(i,end=\" \")"
   ]
  }
 ],
 "metadata": {
  "kernelspec": {
   "display_name": "Python 3",
   "language": "python",
   "name": "python3"
  },
  "language_info": {
   "codemirror_mode": {
    "name": "ipython",
    "version": 3
   },
   "file_extension": ".py",
   "mimetype": "text/x-python",
   "name": "python",
   "nbconvert_exporter": "python",
   "pygments_lexer": "ipython3",
   "version": "3.8.3"
  }
 },
 "nbformat": 4,
 "nbformat_minor": 4
}
